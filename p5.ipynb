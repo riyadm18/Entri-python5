{
 "cells": [
  {
   "cell_type": "code",
   "execution_count": 1,
   "id": "b1dc8d19-ae29-4317-acc6-2bb6a47f2f17",
   "metadata": {},
   "outputs": [
    {
     "name": "stdin",
     "output_type": "stream",
     "text": [
      "Enter the filename:  sample.txt\n"
     ]
    },
    {
     "name": "stdout",
     "output_type": "stream",
     "text": [
      "File contents:\n",
      " Hello World!\n",
      "This is a sample file.\n",
      "\n"
     ]
    }
   ],
   "source": [
    "filename = input(\"Enter the filename: \")\n",
    "try:\n",
    "    with open(filename, 'r') as file:\n",
    "        content = file.read()\n",
    "        print(\"File contents:\\n\", content)\n",
    "except FileNotFoundError:\n",
    "    print(\"The file does not exist.\")"
   ]
  },
  {
   "cell_type": "code",
   "execution_count": 2,
   "id": "b76d9f1f-d59b-4962-8545-917e819d69b6",
   "metadata": {},
   "outputs": [
    {
     "name": "stdin",
     "output_type": "stream",
     "text": [
      "Enter the source filename:  sample.txt\n",
      "Enter the destination filename:  destination.txt\n"
     ]
    },
    {
     "name": "stdout",
     "output_type": "stream",
     "text": [
      "File copied successfully.\n"
     ]
    }
   ],
   "source": [
    "source = input(\"Enter the source filename: \")\n",
    "destination = input(\"Enter the destination filename: \")\n",
    "\n",
    "try:\n",
    "    with open(source, 'r') as src_file:\n",
    "        content = src_file.read()\n",
    "    with open(destination, 'w') as dest_file:\n",
    "        dest_file.write(content)\n",
    "    print(\"File copied successfully.\")\n",
    "except FileNotFoundError:\n",
    "    print(\"Source file not found.\")"
   ]
  },
  {
   "cell_type": "code",
   "execution_count": 5,
   "id": "6845d79d-b29d-48b7-a1e1-227cafc88308",
   "metadata": {},
   "outputs": [
    {
     "name": "stdin",
     "output_type": "stream",
     "text": [
      "Enter the filename:  words.txt\n"
     ]
    },
    {
     "name": "stdout",
     "output_type": "stream",
     "text": [
      "Total number of words: 7\n"
     ]
    }
   ],
   "source": [
    "filename = input(\"Enter the filename: \")\n",
    "try:\n",
    "    with open(filename, 'r') as file:\n",
    "        content = file.read()\n",
    "        words = content.split()\n",
    "        print(\"Total number of words:\", len(words))\n",
    "except FileNotFoundError:\n",
    "    print(\"File not found.\")"
   ]
  },
  {
   "cell_type": "code",
   "execution_count": 6,
   "id": "8ac0adc7-50ff-4027-affa-c713f8ba0859",
   "metadata": {},
   "outputs": [
    {
     "name": "stdin",
     "output_type": "stream",
     "text": [
      "Enter a number:  70102\n"
     ]
    },
    {
     "name": "stdout",
     "output_type": "stream",
     "text": [
      "Converted integer: 70102\n"
     ]
    }
   ],
   "source": [
    "try:\n",
    "    user_input = input(\"Enter a number: \")\n",
    "    number = int(user_input)\n",
    "    print(\"Converted integer:\", number)\n",
    "except ValueError:\n",
    "    print(\"Invalid input! Please enter a valid integer.\")"
   ]
  },
  {
   "cell_type": "code",
   "execution_count": 7,
   "id": "98a0b6c7-f709-4c04-9e6a-1b78412013d7",
   "metadata": {},
   "outputs": [
    {
     "name": "stdin",
     "output_type": "stream",
     "text": [
      "Enter a list of integers separated by space:  7 9 5\n"
     ]
    },
    {
     "name": "stdout",
     "output_type": "stream",
     "text": [
      "All integers are non-negative.\n"
     ]
    }
   ],
   "source": [
    "try:\n",
    "    numbers = list(map(int, input(\"Enter a list of integers separated by space: \").split()))\n",
    "    for num in numbers:\n",
    "        if num < 0:\n",
    "            raise ValueError(\"Negative integers are not allowed.\")\n",
    "    print(\"All integers are non-negative.\")\n",
    "except ValueError as ve:\n",
    "    print(\"Error:\", ve)"
   ]
  },
  {
   "cell_type": "code",
   "execution_count": 10,
   "id": "8a70cf36-d156-4052-89f7-4d93802c652c",
   "metadata": {},
   "outputs": [
    {
     "name": "stdin",
     "output_type": "stream",
     "text": [
      "Enter a list of integers separated by space:  9 4 2 6 4\n"
     ]
    },
    {
     "name": "stdout",
     "output_type": "stream",
     "text": [
      "Average: 5.0\n",
      "Program has finished running.\n"
     ]
    }
   ],
   "source": [
    "try:\n",
    "    numbers = list(map(int, input(\"Enter a list of integers separated by space: \").split()))\n",
    "    average = sum(numbers) / len(numbers)\n",
    "    print(\"Average:\", average)\n",
    "except ZeroDivisionError:\n",
    "    print(\"Cannot compute average of empty list.\")\n",
    "except ValueError:\n",
    "    print(\"Please enter only integers.\")\n",
    "finally:\n",
    "    print(\"Program has finished running.\")"
   ]
  },
  {
   "cell_type": "code",
   "execution_count": 11,
   "id": "b6f7627a-a957-4e1d-8adf-04d1b04e51cb",
   "metadata": {},
   "outputs": [
    {
     "name": "stdin",
     "output_type": "stream",
     "text": [
      "Enter the filename to write to:  out.txt\n",
      "Enter the text to write:  This is 5th assignment using Python\n"
     ]
    },
    {
     "name": "stdout",
     "output_type": "stream",
     "text": [
      "Welcome! The text has been written to the file.\n"
     ]
    }
   ],
   "source": [
    "filename = input(\"Enter the filename to write to: \")\n",
    "text = input(\"Enter the text to write: \")\n",
    "\n",
    "try:\n",
    "    with open(filename, 'w') as file:\n",
    "        file.write(text)\n",
    "    print(\"Welcome! The text has been written to the file.\")\n",
    "except Exception as e:\n",
    "    print(\"An error occurred:\", e)"
   ]
  },
  {
   "cell_type": "code",
   "execution_count": null,
   "id": "c8b01375-61c2-4bc0-8d71-7de413f615ba",
   "metadata": {},
   "outputs": [],
   "source": []
  }
 ],
 "metadata": {
  "kernelspec": {
   "display_name": "Python [conda env:base] *",
   "language": "python",
   "name": "conda-base-py"
  },
  "language_info": {
   "codemirror_mode": {
    "name": "ipython",
    "version": 3
   },
   "file_extension": ".py",
   "mimetype": "text/x-python",
   "name": "python",
   "nbconvert_exporter": "python",
   "pygments_lexer": "ipython3",
   "version": "3.12.7"
  }
 },
 "nbformat": 4,
 "nbformat_minor": 5
}
